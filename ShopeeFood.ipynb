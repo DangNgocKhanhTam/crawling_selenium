{
 "cells": [
  {
   "cell_type": "code",
   "execution_count": 1,
   "metadata": {},
   "outputs": [],
   "source": [
    "from selenium import webdriver\n",
    "from selenium.webdriver.common.by import By\n",
    "from selenium.webdriver.common.keys import Keys\n",
    "from my_lib import *\n",
    "import os \n",
    "import pandas as pd\n",
    "import time "
   ]
  },
  {
   "cell_type": "code",
   "execution_count": 2,
   "metadata": {},
   "outputs": [],
   "source": [
    "driver = webdriver.Chrome()\n",
    "driver.maximize_window()\n",
    "url = 'https://shopeefood.vn/ho-chi-minh/food/danh-sach-dia-diem-phuc-vu-food-tai-khu-vuc-quan-1-giao-tan-noi'\n",
    "driver.get(url)"
   ]
  },
  {
   "cell_type": "code",
   "execution_count": 3,
   "metadata": {},
   "outputs": [
    {
     "name": "stdout",
     "output_type": "stream",
     "text": [
      "<selenium.webdriver.remote.webelement.WebElement (session=\"8fc1d36e0aa50e684d4e77b6b3948411\", element=\"f.82D29174D65E41805F4BA42F28074BBE.d.53CDA98B51242FFF24170B0BA824F770.e.49\")>\n",
      "<selenium.webdriver.remote.webelement.WebElement (session=\"8fc1d36e0aa50e684d4e77b6b3948411\", element=\"f.82D29174D65E41805F4BA42F28074BBE.d.53CDA98B51242FFF24170B0BA824F770.e.50\")>\n",
      "<selenium.webdriver.remote.webelement.WebElement (session=\"8fc1d36e0aa50e684d4e77b6b3948411\", element=\"f.82D29174D65E41805F4BA42F28074BBE.d.53CDA98B51242FFF24170B0BA824F770.e.51\")>\n",
      "<selenium.webdriver.remote.webelement.WebElement (session=\"8fc1d36e0aa50e684d4e77b6b3948411\", element=\"f.82D29174D65E41805F4BA42F28074BBE.d.53CDA98B51242FFF24170B0BA824F770.e.52\")>\n",
      "<selenium.webdriver.remote.webelement.WebElement (session=\"8fc1d36e0aa50e684d4e77b6b3948411\", element=\"f.82D29174D65E41805F4BA42F28074BBE.d.53CDA98B51242FFF24170B0BA824F770.e.53\")>\n",
      "<selenium.webdriver.remote.webelement.WebElement (session=\"8fc1d36e0aa50e684d4e77b6b3948411\", element=\"f.82D29174D65E41805F4BA42F28074BBE.d.53CDA98B51242FFF24170B0BA824F770.e.54\")>\n",
      "<selenium.webdriver.remote.webelement.WebElement (session=\"8fc1d36e0aa50e684d4e77b6b3948411\", element=\"f.82D29174D65E41805F4BA42F28074BBE.d.53CDA98B51242FFF24170B0BA824F770.e.55\")>\n",
      "<selenium.webdriver.remote.webelement.WebElement (session=\"8fc1d36e0aa50e684d4e77b6b3948411\", element=\"f.82D29174D65E41805F4BA42F28074BBE.d.53CDA98B51242FFF24170B0BA824F770.e.56\")>\n"
     ]
    }
   ],
   "source": [
    "list_restaurant_link = []\n",
    "load_more = driver.find_elements(by=By.XPATH, value = '//ul[@class = \"pagination\"]//a')\n",
    "for page in load_more[1:-1]: \n",
    "        print(page)\n",
    "        page.click()\n",
    "        container_list_product = driver.find_element(By.CLASS_NAME, value = 'list-restaurant')\n",
    "        tag_restaurant_link = driver.find_elements(by= By.XPATH, value = '//div[@class = \"item-restaurant\"]/a[@class = \"item-content\"]')\n",
    "        for link in tag_restaurant_link: \n",
    "                restaurant_link = link.get_attribute('href')\n",
    "                list_restaurant_link.append(restaurant_link)\n",
    "        time.sleep(1.5)"
   ]
  },
  {
   "cell_type": "code",
   "execution_count": 4,
   "metadata": {},
   "outputs": [
    {
     "data": {
      "text/plain": [
       "['https://shopeefood.vn/ho-chi-minh/banh-mi-ba-huynh-cong-quynh',\n",
       " 'https://shopeefood.vn/ho-chi-minh/huynh-hoa',\n",
       " 'https://shopeefood.vn/ho-chi-minh/ga-ran-burger-mcdonald-s-da-kao',\n",
       " 'https://shopeefood.vn/ho-chi-minh/chao-suon-co-giang-dinh-tien-hoang',\n",
       " 'https://shopeefood.vn/ho-chi-minh/ga-ran-burger-mcdonald-s-ben-thanh',\n",
       " 'https://shopeefood.vn/ho-chi-minh/mi-y-double-b',\n",
       " 'https://shopeefood.vn/ho-chi-minh/com-ga-hai-nam-calmette',\n",
       " 'https://shopeefood.vn/ho-chi-minh/gio-cha-minh-chau',\n",
       " 'https://shopeefood.vn/ho-chi-minh/com-van-phong-tuan-kiet-25bis-co-giang',\n",
       " 'https://shopeefood.vn/ho-chi-minh/bento-delichi-com-ga-xoi-mo-com-ga-mam-toi-quan-1',\n",
       " 'https://shopeefood.vn/ho-chi-minh/com-chien-nui-xao-bo-cong-quynh',\n",
       " 'https://shopeefood.vn/ho-chi-minh/ut-huong',\n",
       " 'https://shopeefood.vn/ho-chi-minh/banh-mi-trang-luong-huu-khanh',\n",
       " 'https://shopeefood.vn/ho-chi-minh/com-chay-dieu-vy-duong-d5',\n",
       " 'https://shopeefood.vn/ho-chi-minh/my-y-spaghetti-to-go-tran-hung-dao',\n",
       " 'https://shopeefood.vn/ho-chi-minh/thanh-dat-hu-tieu-nam-vang-nguyen-huu-cau',\n",
       " 'https://shopeefood.vn/ho-chi-minh/emy-trai-cay-tuoi-va-an-vat-nguyen-trai',\n",
       " 'https://shopeefood.vn/ho-chi-minh/com-tam-bui-sai-gon',\n",
       " 'https://shopeefood.vn/ho-chi-minh/burger-king-pham-ngu-lao',\n",
       " 'https://shopeefood.vn/ho-chi-minh/hey-pelo-original-french-tacos-tran-khac-chan',\n",
       " 'https://shopeefood.vn/ho-chi-minh/banh-mi-tuoi-mac-dinh-chi',\n",
       " 'https://shopeefood.vn/ho-chi-minh/con-ga-mai-com-ga-phu-yen-tran-cao-van',\n",
       " 'https://shopeefood.vn/ho-chi-minh/the-gioi-donut-hai-ba-trung',\n",
       " 'https://shopeefood.vn/ho-chi-minh/ga-ran-kfc-trinh-van-can-nguyen-thai-hoc',\n",
       " 'https://shopeefood.vn/ho-chi-minh/thanh-dat-hu-tiu-nam-vang-co-bac',\n",
       " 'https://shopeefood.vn/ho-chi-minh/banh-mi-ba-huynh-cong-quynh',\n",
       " 'https://shopeefood.vn/ho-chi-minh/huynh-hoa',\n",
       " 'https://shopeefood.vn/ho-chi-minh/ga-ran-burger-mcdonald-s-da-kao',\n",
       " 'https://shopeefood.vn/ho-chi-minh/chao-suon-co-giang-dinh-tien-hoang',\n",
       " 'https://shopeefood.vn/ho-chi-minh/ga-ran-burger-mcdonald-s-ben-thanh',\n",
       " 'https://shopeefood.vn/ho-chi-minh/mi-y-double-b',\n",
       " 'https://shopeefood.vn/ho-chi-minh/com-ga-hai-nam-calmette',\n",
       " 'https://shopeefood.vn/ho-chi-minh/gio-cha-minh-chau',\n",
       " 'https://shopeefood.vn/ho-chi-minh/com-van-phong-tuan-kiet-25bis-co-giang',\n",
       " 'https://shopeefood.vn/ho-chi-minh/bento-delichi-com-ga-xoi-mo-com-ga-mam-toi-quan-1',\n",
       " 'https://shopeefood.vn/ho-chi-minh/com-chien-nui-xao-bo-cong-quynh',\n",
       " 'https://shopeefood.vn/ho-chi-minh/ut-huong',\n",
       " 'https://shopeefood.vn/ho-chi-minh/banh-mi-trang-luong-huu-khanh',\n",
       " 'https://shopeefood.vn/ho-chi-minh/com-chay-dieu-vy-duong-d5',\n",
       " 'https://shopeefood.vn/ho-chi-minh/my-y-spaghetti-to-go-tran-hung-dao',\n",
       " 'https://shopeefood.vn/ho-chi-minh/thanh-dat-hu-tieu-nam-vang-nguyen-huu-cau',\n",
       " 'https://shopeefood.vn/ho-chi-minh/emy-trai-cay-tuoi-va-an-vat-nguyen-trai',\n",
       " 'https://shopeefood.vn/ho-chi-minh/com-tam-bui-sai-gon',\n",
       " 'https://shopeefood.vn/ho-chi-minh/burger-king-pham-ngu-lao',\n",
       " 'https://shopeefood.vn/ho-chi-minh/hey-pelo-original-french-tacos-tran-khac-chan',\n",
       " 'https://shopeefood.vn/ho-chi-minh/banh-mi-tuoi-mac-dinh-chi',\n",
       " 'https://shopeefood.vn/ho-chi-minh/con-ga-mai-com-ga-phu-yen-tran-cao-van',\n",
       " 'https://shopeefood.vn/ho-chi-minh/the-gioi-donut-hai-ba-trung',\n",
       " 'https://shopeefood.vn/ho-chi-minh/ga-ran-kfc-trinh-van-can-nguyen-thai-hoc',\n",
       " 'https://shopeefood.vn/ho-chi-minh/thanh-dat-hu-tiu-nam-vang-co-bac',\n",
       " 'https://shopeefood.vn/ho-chi-minh/banh-mi-thit-10k-bui-thi-xuan',\n",
       " 'https://shopeefood.vn/ho-chi-minh/banh-cuon-ba-mien-tran-quang-khai',\n",
       " 'https://shopeefood.vn/ho-chi-minh/ga-ran-popeyes-dien-bien-phu',\n",
       " 'https://shopeefood.vn/ho-chi-minh/busan-korean-food-mon-han-quoc-nguyen-thai-hoc',\n",
       " 'https://shopeefood.vn/ho-chi-minh/quan-chay-sala',\n",
       " 'https://shopeefood.vn/ho-chi-minh/bonchon-chicken-vietnam',\n",
       " 'https://shopeefood.vn/ho-chi-minh/kem-bo-trai-cay-to-an-vat-nguyen-thi-minh-khai',\n",
       " 'https://shopeefood.vn/ho-chi-minh/bigbro-korean-hotdog',\n",
       " 'https://shopeefood.vn/ho-chi-minh/dimsum-homemade-ha-cao-dac-biet-tran-khac-chan',\n",
       " 'https://shopeefood.vn/ho-chi-minh/bo-kho-co-mai-since-1984-nguyen-thi-minh-khai',\n",
       " 'https://shopeefood.vn/ho-chi-minh/che-khuc-bach-thanh-tran-quang-khai',\n",
       " 'https://shopeefood.vn/ho-chi-minh/thanh-dat-hu-tieu-nam-vang-pham-ngu-lao',\n",
       " 'https://shopeefood.vn/ho-chi-minh/com-tam-suon-que-nguyen-thi-minh-khai',\n",
       " 'https://shopeefood.vn/ho-chi-minh/pho-ha-hai-trieu',\n",
       " 'https://shopeefood.vn/ho-chi-minh/ngoai-ui-banh-trang-cham-co-giang',\n",
       " 'https://shopeefood.vn/ho-chi-minh/banh-bo-thot-not-cococake-lo-banh-minh-khai',\n",
       " 'https://shopeefood.vn/ho-chi-minh/chao-trang-chao-thit-bam-bk-house-pham-viet-chanh',\n",
       " 'https://shopeefood.vn/ho-chi-minh/quan-185-chao-trang-nguyen-trai',\n",
       " 'https://shopeefood.vn/ho-chi-minh/chao-suon-chu-chen',\n",
       " 'https://shopeefood.vn/ho-chi-minh/tous-les-jours-hai-ba-trung',\n",
       " 'https://shopeefood.vn/ho-chi-minh/cu-sua-hot-dog',\n",
       " 'https://shopeefood.vn/ho-chi-minh/chivago-chicken-ga-ran-han-quoc-bia',\n",
       " 'https://shopeefood.vn/ho-chi-minh/chao-suon-co-giang-co-giang',\n",
       " 'https://shopeefood.vn/ho-chi-minh/ha-la-ca-banh-mi-binh-dinh-banh-cuon-tay-son-huynh-khuong-ninh',\n",
       " 'https://shopeefood.vn/ho-chi-minh/kfc-nguyen-van-giai',\n",
       " 'https://shopeefood.vn/ho-chi-minh/bun-cha-ha-noi-1982-dinh-tien-hoang',\n",
       " 'https://shopeefood.vn/ho-chi-minh/com-ga-xoi-mo-su-su',\n",
       " 'https://shopeefood.vn/ho-chi-minh/hong-hanh-banh-cuon-mon-hue',\n",
       " 'https://shopeefood.vn/ho-chi-minh/co-bong-bun-mam-cho-tan-dinh',\n",
       " 'https://shopeefood.vn/ho-chi-minh/banh-cuon-tay-ho-dinh-tien-hoang',\n",
       " 'https://shopeefood.vn/ho-chi-minh/wow-chicken-ga-ran-com-ga-suong-nguyet-anh',\n",
       " 'https://shopeefood.vn/ho-chi-minh/bun-rieu-cua-oc-phang-rang-ninh-thuan-nguyen-thai-binh',\n",
       " 'https://shopeefood.vn/ho-chi-minh/quan-nem-nguyen-thi-minh-khai',\n",
       " 'https://shopeefood.vn/ho-chi-minh/pha-lau-li',\n",
       " 'https://shopeefood.vn/ho-chi-minh/texas-chicken-nguyen-thai-hoc',\n",
       " 'https://shopeefood.vn/ho-chi-minh/the-pizza-company-nguyen-thai-hoc',\n",
       " 'https://shopeefood.vn/ho-chi-minh/miss-dac-che-khong-ngot-hoang-sa',\n",
       " 'https://shopeefood.vn/ho-chi-minh/thanh-thanh-dat-hu-tieu-nam-vang-43-dinh-tien-hoang',\n",
       " 'https://shopeefood.vn/ho-chi-minh/vit-quay-huynh-ky-cau-bong',\n",
       " 'https://shopeefood.vn/ho-chi-minh/nem-nuong-d-ran-since-1968-nguyen-thi-minh-khai',\n",
       " 'https://shopeefood.vn/ho-chi-minh/kfc-le-lai',\n",
       " 'https://shopeefood.vn/ho-chi-minh/marukame-udon-udon-tempura-hai-ba-trung',\n",
       " 'https://shopeefood.vn/ho-chi-minh/banh-mi-anh-phan',\n",
       " 'https://shopeefood.vn/ho-chi-minh/hu-tieu-muc-ong-gia-ton-that-thiep',\n",
       " 'https://shopeefood.vn/ho-chi-minh/bun-dau-mac-van-khoa-tran-quang-khai',\n",
       " 'https://shopeefood.vn/ho-chi-minh/com-ngon-ha-noi-131-nguyen-du',\n",
       " 'https://shopeefood.vn/ho-chi-minh/banh-beo-hue-cho-ben-thanh',\n",
       " 'https://shopeefood.vn/ho-chi-minh/nem-nuong-d-ran-since-1968-healthy-fresh-nguyen-trai',\n",
       " 'https://shopeefood.vn/ho-chi-minh/phu-ben-tre-hu-tieu-muc-bun-thai-hai-san',\n",
       " 'https://shopeefood.vn/ho-chi-minh/bun-bo-hue-dong-ba-since-1998',\n",
       " 'https://shopeefood.vn/ho-chi-minh/dimsum-homemade-ha-cao-ngu-sac-nguyen-thi-minh-khai',\n",
       " 'https://shopeefood.vn/ho-chi-minh/co-thao-tom-ca-ca-hoi-ngam-tuong-tran-dinh-xu',\n",
       " 'https://shopeefood.vn/ho-chi-minh/banh-mi-sua-bap-bui-thi-xuan',\n",
       " 'https://shopeefood.vn/ho-chi-minh/vina-chuoi-huynh-thuc-khang',\n",
       " 'https://shopeefood.vn/ho-chi-minh/marukame-udon-udon-tempura',\n",
       " 'https://shopeefood.vn/ho-chi-minh/home-mi-mi-y-salad-ga-chien-shop-online',\n",
       " 'https://shopeefood.vn/ho-chi-minh/manmaru-am-thuc-nhat-ban-mac-dinh-chi',\n",
       " 'https://shopeefood.vn/ho-chi-minh/ba-xa-vegan-nha-hang-chay-pasteur',\n",
       " 'https://shopeefood.vn/ho-chi-minh/dodo-pizza-pizza-tran-hung-dao',\n",
       " 'https://shopeefood.vn/ho-chi-minh/van-quan-lau-ga-la-e-co-giang',\n",
       " 'https://shopeefood.vn/ho-chi-minh/phu-vuong-quan-pho',\n",
       " 'https://shopeefood.vn/ho-chi-minh/quan-ngon-bun-cha-ha-noi-dac-san-vung-mien-de-tham.bjlmkw',\n",
       " 'https://shopeefood.vn/ho-chi-minh/con-ga-mai-com-ga-phu-yen-nguyen-dinh-chieu',\n",
       " 'https://shopeefood.vn/ho-chi-minh/quan-ba-ba-hu-tieu-my-banh-mi-bo-kho',\n",
       " 'https://shopeefood.vn/ho-chi-minh/oc-bac-minh-oi-q1-ho-hao-hon',\n",
       " 'https://shopeefood.vn/ho-chi-minh/mien-cua-94-chinh-goc',\n",
       " 'https://shopeefood.vn/ho-chi-minh/com-tam-phuc-loc-tho-236-dinh-tien-hoang',\n",
       " 'https://shopeefood.vn/ho-chi-minh/bear-khoai-khoai-tay-chien-ga-chien-sot-nhieu-vi-tran-khac-chan',\n",
       " 'https://shopeefood.vn/ho-chi-minh/suong-sam-tam-viet-nguyen-thai-hoc',\n",
       " 'https://shopeefood.vn/ho-chi-minh/gimbap-korean-food-mon-an-han-quoc',\n",
       " 'https://shopeefood.vn/ho-chi-minh/ga-ta-xu-quang-nguyen-van-cu',\n",
       " 'https://shopeefood.vn/ho-chi-minh/bun-thai-hai-san-van-truong-tran-quang-khai',\n",
       " 'https://shopeefood.vn/ho-chi-minh/banh-canh-cua-ut-thao-le-thanh-ton',\n",
       " 'https://shopeefood.vn/ho-chi-minh/the-gioi-tau-hu',\n",
       " 'https://shopeefood.vn/ho-chi-minh/chewy-chewy-cafe-banh-tran-hung-dao',\n",
       " 'https://shopeefood.vn/ho-chi-minh/bun-cha-pho-hang-quat',\n",
       " 'https://shopeefood.vn/ho-chi-minh/bun-bo-hoang-kim-bo-kho-banh-mi-hu-tieu-bo-kho-ton-that-dam',\n",
       " 'https://shopeefood.vn/ho-chi-minh/com-ga-met-ga-goi-ga-ta-ngon-so-1-226-dinh-tien-hoang',\n",
       " 'https://shopeefood.vn/ho-chi-minh/xoi-che-bui-thi-xuan-bui-thi-xuan',\n",
       " 'https://shopeefood.vn/ho-chi-minh/hem-fast-food-mon-han-quoc-nguyen-cu-trinh',\n",
       " 'https://shopeefood.vn/ho-chi-minh/twelve-com-ga-hai-nam-singapore-bui-vien',\n",
       " 'https://shopeefood.vn/ho-chi-minh/ga-ran-burger-mcdonald-s-nguyen-hue',\n",
       " 'https://shopeefood.vn/ho-chi-minh/bun-cha-ba-binh-nguyen-trung-ngan',\n",
       " 'https://shopeefood.vn/ho-chi-minh/little-bodhi-tree-saigon-nha-hang-chay',\n",
       " 'https://shopeefood.vn/ho-chi-minh/banh-cuon-ba-mien-de-tham',\n",
       " 'https://shopeefood.vn/ho-chi-minh/di-nam-sa-dec-hu-tieu-hu-tiu-banh-tam',\n",
       " 'https://shopeefood.vn/ho-chi-minh/daiichi-ramen-curry-thai-van-lung',\n",
       " 'https://shopeefood.vn/ho-chi-minh/rio-kho-ga-cay-la-chanh-shop-online',\n",
       " 'https://shopeefood.vn/ho-chi-minh/pho-thin-by-sol-hai-trieu',\n",
       " 'https://shopeefood.vn/ho-chi-minh/nha-hang-chay-ba-xa-vegan',\n",
       " 'https://shopeefood.vn/ho-chi-minh/banh-bao-ha-cao-xiu-mai-de-tham',\n",
       " 'https://shopeefood.vn/ho-chi-minh/nha-hang-unatoto-com-luon-nhat-ban',\n",
       " 'https://shopeefood.vn/ho-chi-minh/coco-ichibanya-ly-tu-trong',\n",
       " 'https://shopeefood.vn/ho-chi-minh/lotteria-tran-hung-dao',\n",
       " 'https://shopeefood.vn/ho-chi-minh/che-van-nguyen-huu-cau',\n",
       " 'https://shopeefood.vn/ho-chi-minh/tenryu-udon-52-ton-that-thiep',\n",
       " 'https://shopeefood.vn/ho-chi-minh/bun-bo-hue-nam-giao-de-tham',\n",
       " 'https://shopeefood.vn/ho-chi-minh/fruit-crush-trai-cay-tuoi-an-vat-nguyen-thi-minh-khai',\n",
       " 'https://shopeefood.vn/ho-chi-minh/com-mi-tron-mu-summer',\n",
       " 'https://shopeefood.vn/ho-chi-minh/com-tam-thuan-kieu-ton-that-tung',\n",
       " 'https://shopeefood.vn/ho-chi-minh/chickita-ga-nuong-lua-hong-ho-tung-mau',\n",
       " 'https://shopeefood.vn/ho-chi-minh/ba-banh-bakery-bong-lan-trung-muoi-suong-nguyet-anh.symiim',\n",
       " 'https://shopeefood.vn/ho-chi-minh/milo-dam-chung-cu-42',\n",
       " 'https://shopeefood.vn/ho-chi-minh/nhat-thien-moc-soup-vi-ca-bangkok',\n",
       " 'https://shopeefood.vn/ho-chi-minh/be-an-vegetarian-cafe-nha-hang-ca-phe-chay-99-nguyen-hue',\n",
       " 'https://shopeefood.vn/ho-chi-minh/bo-kho-co-mai-since-1984-71-ho-tung-mau',\n",
       " 'https://shopeefood.vn/ho-chi-minh/ga-nuong-cai-bang-nguyen-cu-trinh',\n",
       " 'https://shopeefood.vn/ho-chi-minh/mien-ga-son-nga',\n",
       " 'https://shopeefood.vn/ho-chi-minh/chu-phuc-mi-xao-nui-xao-com-chien',\n",
       " 'https://shopeefood.vn/ho-chi-minh/mien-pho-ga-43-mac-dinh-chi-tran-cao-van',\n",
       " 'https://shopeefood.vn/ho-chi-minh/sukiya-com-bo-ham-mi-ramen-thai-van-lung',\n",
       " 'https://shopeefood.vn/ho-chi-minh/bun-cha-ha-noi-26',\n",
       " 'https://shopeefood.vn/ho-chi-minh/and-balance-salad-tra-sua',\n",
       " 'https://shopeefood.vn/ho-chi-minh/matsuri-japanese-restaurant-pasteur',\n",
       " 'https://shopeefood.vn/ho-chi-minh/com-tam-delichi-com-suon-com-ba-roi-nguyen-thi-minh-khai',\n",
       " 'https://shopeefood.vn/ho-chi-minh/chi-ba-hu-tieu-chay-my-tho',\n",
       " 'https://shopeefood.vn/ho-chi-minh/hoa-khai-nha-hang-chay',\n",
       " 'https://shopeefood.vn/ho-chi-minh/toan-ky-mi-gia-106e-nguyen-van-cu-',\n",
       " 'https://shopeefood.vn/ho-chi-minh/pepper-lunch-saigon-centre',\n",
       " 'https://shopeefood.vn/ho-chi-minh/vu-tru-mi-tron-nguyen-van-giai',\n",
       " 'https://shopeefood.vn/ho-chi-minh/pho-24h-nguyen-van-chiem',\n",
       " 'https://shopeefood.vn/ho-chi-minh/nguyen-sinh-1942-pate-gio-cha-banh-mi-tran-dinh-xu',\n",
       " 'https://shopeefood.vn/ho-chi-minh/clover-korean-house-food',\n",
       " 'https://shopeefood.vn/ho-chi-minh/geylang-lor-9-chao-ech-singapore',\n",
       " 'https://shopeefood.vn/ho-chi-minh/banh-canh-cua-ut-thao-ho-tung-mau',\n",
       " 'https://shopeefood.vn/ho-chi-minh/ba-phi-sup-cua-gia-truyen-ton-that-dam',\n",
       " 'https://shopeefood.vn/ho-chi-minh/bento-delichi-com-ga-xoi-mo-com-ga-mam-toi-ton-that-dam',\n",
       " 'https://shopeefood.vn/ho-chi-minh/yoshinoya-vietnam',\n",
       " 'https://shopeefood.vn/ho-chi-minh/indika-saigon',\n",
       " 'https://shopeefood.vn/ho-chi-minh/nao-an-uong-ngay-nao',\n",
       " 'https://shopeefood.vn/ho-chi-minh/vu-ha-banh-bot-loc-banh-nam-hue-shop-online',\n",
       " 'https://shopeefood.vn/ho-chi-minh/shop-kem-banh-trang-tron-an-vat-nguyen-thi-minh-khai',\n",
       " 'https://shopeefood.vn/ho-chi-minh/spice-india-nha-hang-an-do-tran-hung-dao',\n",
       " 'https://shopeefood.vn/ho-chi-minh/pizza-hut-tran-hung-dao',\n",
       " 'https://shopeefood.vn/ho-chi-minh/mr-eco-salad-healthy-food-drinks-pasteur',\n",
       " 'https://shopeefood.vn/ho-chi-minh/quan-chay-nha-toi',\n",
       " 'https://shopeefood.vn/ho-chi-minh/insalata-salad-healthy-meal',\n",
       " 'https://shopeefood.vn/ho-chi-minh/bun-dau-46-60-cao-ba-nha',\n",
       " 'https://shopeefood.vn/ho-chi-minh/hoang-ty-group-dac-san-trang-bang-mac-dinh-chi',\n",
       " 'https://shopeefood.vn/ho-chi-minh/rico-taco-mexican-restaurant',\n",
       " 'https://shopeefood.vn/ho-chi-minh/hao-ky-mi-gia-hu-tieu-xao-dinh-cong-trang',\n",
       " 'https://shopeefood.vn/ho-chi-minh/baozi-am-thuc-dai-loan-ho-tung-mau',\n",
       " 'https://shopeefood.vn/ho-chi-minh/robata-an-com-trua-nhat-ban',\n",
       " 'https://shopeefood.vn/ho-chi-minh/hanoi-ngon-nem-chua-ran-an-vat-chuan-ha-noi-huynh-thuc-khang',\n",
       " 'https://shopeefood.vn/ho-chi-minh/nha-hang-kamura-ca-ngu-nhat-ban',\n",
       " 'https://shopeefood.vn/ho-chi-minh/the-wagon-wheel-american-comfort-cuisine',\n",
       " 'https://shopeefood.vn/ho-chi-minh/papas-chicken-ga-ran-han-quoc-nguyen-hue',\n",
       " 'https://shopeefood.vn/ho-chi-minh/scoopy-ice-cream-nguyen-trai',\n",
       " 'https://shopeefood.vn/ho-chi-minh/nga-156-bun-thit-nuong-tran-quang-khai.tuhxcn',\n",
       " 'https://shopeefood.vn/ho-chi-minh/la-fiesta-mexican-restaurant']"
      ]
     },
     "execution_count": 4,
     "metadata": {},
     "output_type": "execute_result"
    }
   ],
   "source": [
    "list_restaurant_link"
   ]
  },
  {
   "cell_type": "markdown",
   "metadata": {},
   "source": [
    "#### Wrire file link_restaurant for back up"
   ]
  },
  {
   "cell_type": "code",
   "execution_count": 5,
   "metadata": {},
   "outputs": [],
   "source": [
    "list_link = []\n",
    "file_link = 'link.txt'\n",
    "for link in list_restaurant_link:\n",
    "    list_link.append(link + '\\n')\n",
    "write_txt(file_link, list_link)"
   ]
  },
  {
   "cell_type": "markdown",
   "metadata": {},
   "source": [
    "### Crawling "
   ]
  },
  {
   "cell_type": "code",
   "execution_count": 7,
   "metadata": {},
   "outputs": [
    {
     "name": "stdout",
     "output_type": "stream",
     "text": [
      "1: Bánh Mì Bà Huynh - Cống Quỳnh\n",
      "2: Bánh Mì Huynh Hoa - Bánh Mì Pate\n",
      "3: Gà Rán & Burger McDonald's Đa Kao\n",
      "4: Cháo Sườn Cô Giang - Đinh Tiên Hoàng\n"
     ]
    },
    {
     "ename": "NoSuchElementException",
     "evalue": "Message: no such element: Unable to locate element: {\"method\":\"xpath\",\"selector\":\"//div[@id = \"promotion-item\"]//div[@class = \"content\"]\"}\n  (Session info: chrome=124.0.6367.91); For documentation on this error, please visit: https://www.selenium.dev/documentation/webdriver/troubleshooting/errors#no-such-element-exception\nStacktrace:\n\tGetHandleVerifier [0x00007FF752311502+60802]\n\t(No symbol) [0x00007FF75228AC02]\n\t(No symbol) [0x00007FF752147CE4]\n\t(No symbol) [0x00007FF752196D4D]\n\t(No symbol) [0x00007FF752196E1C]\n\t(No symbol) [0x00007FF7521DCE37]\n\t(No symbol) [0x00007FF7521BABBF]\n\t(No symbol) [0x00007FF7521DA224]\n\t(No symbol) [0x00007FF7521BA923]\n\t(No symbol) [0x00007FF752188FEC]\n\t(No symbol) [0x00007FF752189C21]\n\tGetHandleVerifier [0x00007FF75261411D+3217821]\n\tGetHandleVerifier [0x00007FF7526560B7+3488055]\n\tGetHandleVerifier [0x00007FF75264F03F+3459263]\n\tGetHandleVerifier [0x00007FF7523CB846+823494]\n\t(No symbol) [0x00007FF752295F9F]\n\t(No symbol) [0x00007FF752290EC4]\n\t(No symbol) [0x00007FF752291052]\n\t(No symbol) [0x00007FF7522818A4]\n\tBaseThreadInitThunk [0x00007FFEAE3B257D+29]\n\tRtlUserThreadStart [0x00007FFEAECEAA48+40]\n",
     "output_type": "error",
     "traceback": [
      "\u001b[1;31m---------------------------------------------------------------------------\u001b[0m",
      "\u001b[1;31mNoSuchElementException\u001b[0m                    Traceback (most recent call last)",
      "Cell \u001b[1;32mIn[7], line 55\u001b[0m\n\u001b[0;32m     52\u001b[0m list_cost_service\u001b[38;5;241m.\u001b[39mappend(cost_service)\n\u001b[0;32m     54\u001b[0m \u001b[38;5;66;03m# Voucher\u001b[39;00m\n\u001b[1;32m---> 55\u001b[0m tag_voucher  \u001b[38;5;241m=\u001b[39m \u001b[43mdriver_restaurant_details\u001b[49m\u001b[38;5;241;43m.\u001b[39;49m\u001b[43mfind_element\u001b[49m\u001b[43m(\u001b[49m\u001b[43mby\u001b[49m\u001b[38;5;241;43m=\u001b[39;49m\u001b[43m \u001b[49m\u001b[43mBy\u001b[49m\u001b[38;5;241;43m.\u001b[39;49m\u001b[43mXPATH\u001b[49m\u001b[43m,\u001b[49m\u001b[43m \u001b[49m\u001b[43mvalue\u001b[49m\u001b[43m \u001b[49m\u001b[38;5;241;43m=\u001b[39;49m\u001b[43m  \u001b[49m\u001b[38;5;124;43m'\u001b[39;49m\u001b[38;5;124;43m//div[@id = \u001b[39;49m\u001b[38;5;124;43m\"\u001b[39;49m\u001b[38;5;124;43mpromotion-item\u001b[39;49m\u001b[38;5;124;43m\"\u001b[39;49m\u001b[38;5;124;43m]//div[@class = \u001b[39;49m\u001b[38;5;124;43m\"\u001b[39;49m\u001b[38;5;124;43mcontent\u001b[39;49m\u001b[38;5;124;43m\"\u001b[39;49m\u001b[38;5;124;43m]\u001b[39;49m\u001b[38;5;124;43m'\u001b[39;49m\u001b[43m)\u001b[49m\n\u001b[0;32m     56\u001b[0m voucher \u001b[38;5;241m=\u001b[39m tag_voucher\u001b[38;5;241m.\u001b[39mget_attribute(\u001b[38;5;124m'\u001b[39m\u001b[38;5;124mtextContent\u001b[39m\u001b[38;5;124m'\u001b[39m)\n\u001b[0;32m     57\u001b[0m list_voucher\u001b[38;5;241m.\u001b[39mappend(voucher)\n",
      "File \u001b[1;32mc:\\Users\\EQ-0803\\AppData\\Local\\Programs\\Python\\Python310\\lib\\site-packages\\selenium\\webdriver\\remote\\webdriver.py:741\u001b[0m, in \u001b[0;36mWebDriver.find_element\u001b[1;34m(self, by, value)\u001b[0m\n\u001b[0;32m    738\u001b[0m     by \u001b[38;5;241m=\u001b[39m By\u001b[38;5;241m.\u001b[39mCSS_SELECTOR\n\u001b[0;32m    739\u001b[0m     value \u001b[38;5;241m=\u001b[39m \u001b[38;5;124mf\u001b[39m\u001b[38;5;124m'\u001b[39m\u001b[38;5;124m[name=\u001b[39m\u001b[38;5;124m\"\u001b[39m\u001b[38;5;132;01m{\u001b[39;00mvalue\u001b[38;5;132;01m}\u001b[39;00m\u001b[38;5;124m\"\u001b[39m\u001b[38;5;124m]\u001b[39m\u001b[38;5;124m'\u001b[39m\n\u001b[1;32m--> 741\u001b[0m \u001b[38;5;28;01mreturn\u001b[39;00m \u001b[38;5;28;43mself\u001b[39;49m\u001b[38;5;241;43m.\u001b[39;49m\u001b[43mexecute\u001b[49m\u001b[43m(\u001b[49m\u001b[43mCommand\u001b[49m\u001b[38;5;241;43m.\u001b[39;49m\u001b[43mFIND_ELEMENT\u001b[49m\u001b[43m,\u001b[49m\u001b[43m \u001b[49m\u001b[43m{\u001b[49m\u001b[38;5;124;43m\"\u001b[39;49m\u001b[38;5;124;43musing\u001b[39;49m\u001b[38;5;124;43m\"\u001b[39;49m\u001b[43m:\u001b[49m\u001b[43m \u001b[49m\u001b[43mby\u001b[49m\u001b[43m,\u001b[49m\u001b[43m \u001b[49m\u001b[38;5;124;43m\"\u001b[39;49m\u001b[38;5;124;43mvalue\u001b[39;49m\u001b[38;5;124;43m\"\u001b[39;49m\u001b[43m:\u001b[49m\u001b[43m \u001b[49m\u001b[43mvalue\u001b[49m\u001b[43m}\u001b[49m\u001b[43m)\u001b[49m[\u001b[38;5;124m\"\u001b[39m\u001b[38;5;124mvalue\u001b[39m\u001b[38;5;124m\"\u001b[39m]\n",
      "File \u001b[1;32mc:\\Users\\EQ-0803\\AppData\\Local\\Programs\\Python\\Python310\\lib\\site-packages\\selenium\\webdriver\\remote\\webdriver.py:347\u001b[0m, in \u001b[0;36mWebDriver.execute\u001b[1;34m(self, driver_command, params)\u001b[0m\n\u001b[0;32m    345\u001b[0m response \u001b[38;5;241m=\u001b[39m \u001b[38;5;28mself\u001b[39m\u001b[38;5;241m.\u001b[39mcommand_executor\u001b[38;5;241m.\u001b[39mexecute(driver_command, params)\n\u001b[0;32m    346\u001b[0m \u001b[38;5;28;01mif\u001b[39;00m response:\n\u001b[1;32m--> 347\u001b[0m     \u001b[38;5;28;43mself\u001b[39;49m\u001b[38;5;241;43m.\u001b[39;49m\u001b[43merror_handler\u001b[49m\u001b[38;5;241;43m.\u001b[39;49m\u001b[43mcheck_response\u001b[49m\u001b[43m(\u001b[49m\u001b[43mresponse\u001b[49m\u001b[43m)\u001b[49m\n\u001b[0;32m    348\u001b[0m     response[\u001b[38;5;124m\"\u001b[39m\u001b[38;5;124mvalue\u001b[39m\u001b[38;5;124m\"\u001b[39m] \u001b[38;5;241m=\u001b[39m \u001b[38;5;28mself\u001b[39m\u001b[38;5;241m.\u001b[39m_unwrap_value(response\u001b[38;5;241m.\u001b[39mget(\u001b[38;5;124m\"\u001b[39m\u001b[38;5;124mvalue\u001b[39m\u001b[38;5;124m\"\u001b[39m, \u001b[38;5;28;01mNone\u001b[39;00m))\n\u001b[0;32m    349\u001b[0m     \u001b[38;5;28;01mreturn\u001b[39;00m response\n",
      "File \u001b[1;32mc:\\Users\\EQ-0803\\AppData\\Local\\Programs\\Python\\Python310\\lib\\site-packages\\selenium\\webdriver\\remote\\errorhandler.py:229\u001b[0m, in \u001b[0;36mErrorHandler.check_response\u001b[1;34m(self, response)\u001b[0m\n\u001b[0;32m    227\u001b[0m         alert_text \u001b[38;5;241m=\u001b[39m value[\u001b[38;5;124m\"\u001b[39m\u001b[38;5;124malert\u001b[39m\u001b[38;5;124m\"\u001b[39m]\u001b[38;5;241m.\u001b[39mget(\u001b[38;5;124m\"\u001b[39m\u001b[38;5;124mtext\u001b[39m\u001b[38;5;124m\"\u001b[39m)\n\u001b[0;32m    228\u001b[0m     \u001b[38;5;28;01mraise\u001b[39;00m exception_class(message, screen, stacktrace, alert_text)  \u001b[38;5;66;03m# type: ignore[call-arg]  # mypy is not smart enough here\u001b[39;00m\n\u001b[1;32m--> 229\u001b[0m \u001b[38;5;28;01mraise\u001b[39;00m exception_class(message, screen, stacktrace)\n",
      "\u001b[1;31mNoSuchElementException\u001b[0m: Message: no such element: Unable to locate element: {\"method\":\"xpath\",\"selector\":\"//div[@id = \"promotion-item\"]//div[@class = \"content\"]\"}\n  (Session info: chrome=124.0.6367.91); For documentation on this error, please visit: https://www.selenium.dev/documentation/webdriver/troubleshooting/errors#no-such-element-exception\nStacktrace:\n\tGetHandleVerifier [0x00007FF752311502+60802]\n\t(No symbol) [0x00007FF75228AC02]\n\t(No symbol) [0x00007FF752147CE4]\n\t(No symbol) [0x00007FF752196D4D]\n\t(No symbol) [0x00007FF752196E1C]\n\t(No symbol) [0x00007FF7521DCE37]\n\t(No symbol) [0x00007FF7521BABBF]\n\t(No symbol) [0x00007FF7521DA224]\n\t(No symbol) [0x00007FF7521BA923]\n\t(No symbol) [0x00007FF752188FEC]\n\t(No symbol) [0x00007FF752189C21]\n\tGetHandleVerifier [0x00007FF75261411D+3217821]\n\tGetHandleVerifier [0x00007FF7526560B7+3488055]\n\tGetHandleVerifier [0x00007FF75264F03F+3459263]\n\tGetHandleVerifier [0x00007FF7523CB846+823494]\n\t(No symbol) [0x00007FF752295F9F]\n\t(No symbol) [0x00007FF752290EC4]\n\t(No symbol) [0x00007FF752291052]\n\t(No symbol) [0x00007FF7522818A4]\n\tBaseThreadInitThunk [0x00007FFEAE3B257D+29]\n\tRtlUserThreadStart [0x00007FFEAECEAA48+40]\n"
     ]
    }
   ],
   "source": [
    "\n",
    "list_restaurant_name = []\n",
    "list_address_restaurant = []\n",
    "list_stars = []\n",
    "list_open_time = []\n",
    "list_cost_restaurant = []\n",
    "list_cost_service = []\n",
    "list_voucher = []\n",
    "df= {}\n",
    "count = 0\n",
    "\n",
    "driver_restaurant_details = webdriver.Chrome()\n",
    "driver_restaurant_details.maximize_window()\n",
    "\n",
    "for restaurant_link in list_restaurant_link:\n",
    "    url =restaurant_link\n",
    "    driver_restaurant_details.get(url)\n",
    "    time.sleep(3)\n",
    "\n",
    "    # Restaurant Name\n",
    "    tag_restaurant_name = driver_restaurant_details.find_element(by= By.XPATH, value = '//h1[@class = \"name-restaurant\"]')\n",
    "    restaurant_name = tag_restaurant_name.get_attribute('textContent') \n",
    "    list_restaurant_name.append(restaurant_name)\n",
    "\n",
    "    # Address Restaurant\n",
    "    tag_address_restaurant = driver_restaurant_details.find_element(by= By.XPATH, value = '//div[@class = \"address-restaurant\"]')\n",
    "    address_restaurant = tag_address_restaurant.get_attribute('textContent')\n",
    "    list_address_restaurant.append(address_restaurant)    \n",
    "\n",
    "    # Stars\n",
    "    tag_rating = driver_restaurant_details.find_elements(by= By.XPATH, value = '//div[@class = \"stars\"]/span')\n",
    "    stars = 0\n",
    "    for rating in tag_rating:\n",
    "        if rating.get_attribute('class') == 'full': \n",
    "            stars += 1\n",
    "        if rating.get_attribute('class') == 'half':\n",
    "            stars += 0.5\n",
    "    list_stars.append(stars)\n",
    "\n",
    "    # Open Time\n",
    "    tag_open_time = driver_restaurant_details.find_element(by= By.XPATH, value = '//div[@class = \"time\"]')\n",
    "    open_time = tag_open_time.get_attribute('textContent')\n",
    "    list_open_time.append(open_time)\n",
    "    \n",
    "    # Cost Restaurant \n",
    "    tag_cost_restaurant = driver_restaurant_details.find_element(by= By.XPATH, value = '//div[@class = \"cost-restaurant\"]')\n",
    "    cost_restaurant = tag_cost_restaurant.get_attribute('textContent')\n",
    "    list_cost_restaurant.append(cost_restaurant)\n",
    "\n",
    "    # Cost Service \n",
    "    tag_cost_service = driver_restaurant_details.find_element(by= By.XPATH, value = '//div[@class = \"utility-content\"]/span')\n",
    "    cost_service = tag_cost_service.get_attribute('textContent')\n",
    "    list_cost_service.append(cost_service)\n",
    "\n",
    "    # Voucher\n",
    "    tag_voucher  = driver_restaurant_details.find_element(by= By.XPATH, value =  '//div[@id = \"promotion-item\"]//div[@class = \"content\"]')\n",
    "    voucher = tag_voucher.get_attribute('textContent')\n",
    "    list_voucher.append(voucher)\n",
    "    \n",
    "\n",
    "    count += 1\n",
    "    print(f'{count}: {restaurant_name}')\n",
    "    \n",
    "\n",
    "else: \n",
    "    driver_restaurant_details.close()\n",
    "    \n",
    "    df= pd.DataFrame({\n",
    "        'restaurant_name': list_restaurant_name, \n",
    "        'address_restaurant': list_address_restaurant, \n",
    "        'stars': list_stars, \n",
    "        'open_time': list_open_time, \n",
    "        'cost_restaurant': list_cost_restaurant, \n",
    "        'cost_service': list_cost_service, \n",
    "        'voucher': list_voucher, \n",
    "        'restaurant_link': list_restaurant_link\n",
    "    })\n",
    "\n",
    "    data_folder = 'crawling'\n",
    "    if not os.path.exists(data_folder): \n",
    "        os.makedirs(data_folder)\n",
    "    df_shopee_food = df.to_csv(f'{data_folder}/ShopeeFood.csv', index= False)\n",
    "    print('> Done!!!')\n",
    "\n",
    "\n",
    "    \n"
   ]
  },
  {
   "cell_type": "markdown",
   "metadata": {},
   "source": [
    "#### Ten quan"
   ]
  },
  {
   "cell_type": "code",
   "execution_count": 58,
   "metadata": {},
   "outputs": [],
   "source": [
    "driver_restaurant_details = webdriver.Chrome()\n",
    "driver_restaurant_details.maximize_window()\n",
    "url = 'https://shopeefood.vn/ho-chi-minh/banh-mi-ba-huynh-cong-quynh'\n",
    "driver_restaurant_details.get(url)"
   ]
  },
  {
   "cell_type": "code",
   "execution_count": 178,
   "metadata": {},
   "outputs": [
    {
     "data": {
      "text/plain": [
       "'Bánh Mì Bà Huynh - Cống Quỳnh'"
      ]
     },
     "execution_count": 178,
     "metadata": {},
     "output_type": "execute_result"
    }
   ],
   "source": [
    "tag_restaurant_link = driver_restaurant_details.find_element(by= By.XPATH, value = '//h1[@class = \"name-restaurant\"]')\n",
    "tag_restaurant_link.get_attribute('textContent')"
   ]
  },
  {
   "cell_type": "markdown",
   "metadata": {},
   "source": [
    "### address"
   ]
  },
  {
   "cell_type": "code",
   "execution_count": 192,
   "metadata": {},
   "outputs": [
    {
     "data": {
      "text/plain": [
       "'185k Cống Quỳnh, P. Nguyễn Cư Trinh, Quận 1, TP. HCM'"
      ]
     },
     "execution_count": 192,
     "metadata": {},
     "output_type": "execute_result"
    }
   ],
   "source": [
    "tag_address_restaurant = driver_restaurant_details.find_element(by= By.XPATH, value = '//div[@class = \"address-restaurant\"]')\n",
    "tag_address_restaurant.get_attribute('textContent')"
   ]
  },
  {
   "cell_type": "markdown",
   "metadata": {},
   "source": [
    "#### Rating"
   ]
  },
  {
   "cell_type": "code",
   "execution_count": 196,
   "metadata": {},
   "outputs": [
    {
     "data": {
      "text/plain": [
       "4.5"
      ]
     },
     "execution_count": 196,
     "metadata": {},
     "output_type": "execute_result"
    }
   ],
   "source": [
    "tag_rating = driver_restaurant_details.find_elements(by= By.XPATH, value = '//div[@class = \"stars\"]/span')\n",
    "total_rating = 0\n",
    "for rating in tag_rating:\n",
    "    if rating.get_attribute('class') == 'full': \n",
    "        total_rating += 1\n",
    "    if rating.get_attribute('class') == 'half':\n",
    "        total_rating += 0.5\n",
    "total_rating"
   ]
  },
  {
   "cell_type": "markdown",
   "metadata": {},
   "source": [
    "### Open Time\n"
   ]
  },
  {
   "cell_type": "code",
   "execution_count": 42,
   "metadata": {},
   "outputs": [
    {
     "ename": "AttributeError",
     "evalue": "'list' object has no attribute 'get_attribute'",
     "output_type": "error",
     "traceback": [
      "\u001b[1;31m---------------------------------------------------------------------------\u001b[0m",
      "\u001b[1;31mAttributeError\u001b[0m                            Traceback (most recent call last)",
      "Cell \u001b[1;32mIn[42], line 3\u001b[0m\n\u001b[0;32m      1\u001b[0m tag_voucher  \u001b[38;5;241m=\u001b[39m driver_restaurant_details\u001b[38;5;241m.\u001b[39mfind_elements(by\u001b[38;5;241m=\u001b[39m By\u001b[38;5;241m.\u001b[39mXPATH, value \u001b[38;5;241m=\u001b[39m \u001b[38;5;124m'\u001b[39m\u001b[38;5;124m//div[@id = \u001b[39m\u001b[38;5;124m\"\u001b[39m\u001b[38;5;124mpromotion-item\u001b[39m\u001b[38;5;124m\"\u001b[39m\u001b[38;5;124m]//div[@class = \u001b[39m\u001b[38;5;124m\"\u001b[39m\u001b[38;5;124mcontent\u001b[39m\u001b[38;5;124m\"\u001b[39m\u001b[38;5;124m]\u001b[39m\u001b[38;5;124m'\u001b[39m)\n\u001b[0;32m      2\u001b[0m \u001b[38;5;28;01mfor\u001b[39;00m voucher \u001b[38;5;129;01min\u001b[39;00m tag_voucher: \n\u001b[1;32m----> 3\u001b[0m     \u001b[38;5;28mprint\u001b[39m(\u001b[43mtag_voucher\u001b[49m\u001b[38;5;241;43m.\u001b[39;49m\u001b[43mget_attribute\u001b[49m(\u001b[38;5;124m'\u001b[39m\u001b[38;5;124mtextContent\u001b[39m\u001b[38;5;124m'\u001b[39m))\n\u001b[0;32m      4\u001b[0m \u001b[38;5;66;03m# len(tag_voucher)\u001b[39;00m\n\u001b[0;32m      5\u001b[0m \u001b[38;5;66;03m# tag_voucher\u001b[39;00m\n",
      "\u001b[1;31mAttributeError\u001b[0m: 'list' object has no attribute 'get_attribute'"
     ]
    }
   ],
   "source": [
    "\n",
    "tag_voucher  = driver_restaurant_details.find_element(by= By.XPATH, value = '//div[@id = \"promotion-item\"]//div[@class = \"content\"]')\n",
    "for voucher in tag_voucher: \n",
    "    print(tag_voucher.get_attribute('textContent'))\n",
    "# len(tag_voucher)\n",
    "# tag_voucher"
   ]
  },
  {
   "cell_type": "code",
   "execution_count": 43,
   "metadata": {},
   "outputs": [
    {
     "data": {
      "text/plain": [
       "' VIB giảm 30k'"
      ]
     },
     "execution_count": 43,
     "metadata": {},
     "output_type": "execute_result"
    }
   ],
   "source": [
    "\n",
    "tag_voucher  = driver_restaurant_details.find_element(by= By.XPATH, value = '//div[@id = \"promotion-item\"]//div[@class = \"content\"]')\n",
    "tag_voucher.get_attribute('textContent')"
   ]
  },
  {
   "cell_type": "code",
   "execution_count": 59,
   "metadata": {},
   "outputs": [
    {
     "name": "stdout",
     "output_type": "stream",
     "text": [
      "https://mms.img.susercontent.com/vn-11134513-7r98o-lsv7jl8ilrix5f@resize_ss640x400!@crop_w640_h400_cT\n"
     ]
    }
   ],
   "source": [
    "tag_image_link  = driver_restaurant_details.find_elements(by= By.XPATH, value =  '//div[@class = \"detail-restaurant-img\"]/img')\n",
    "for image_link in tag_image_link: \n",
    "    print(image_link.get_attribute('src'))\n",
    "\n"
   ]
  },
  {
   "cell_type": "markdown",
   "metadata": {},
   "source": [
    "driver.fin"
   ]
  },
  {
   "cell_type": "markdown",
   "metadata": {},
   "source": [
    "### Dia chi"
   ]
  },
  {
   "cell_type": "markdown",
   "metadata": {},
   "source": [
    "### Rating"
   ]
  },
  {
   "cell_type": "markdown",
   "metadata": {},
   "source": [
    "### Gio mo cua"
   ]
  },
  {
   "cell_type": "markdown",
   "metadata": {},
   "source": [
    "### Range Gia"
   ]
  },
  {
   "cell_type": "markdown",
   "metadata": {},
   "source": [
    "### Cac ma giam gia"
   ]
  },
  {
   "cell_type": "code",
   "execution_count": 106,
   "metadata": {},
   "outputs": [],
   "source": [
    "a = ['banh mi ba huan', 'bugerking']\n",
    "b = ['quan 1', 'quan 3']\n",
    "c = ['banh mi thit', 'banh mi cha', 'banh mi trung']"
   ]
  },
  {
   "cell_type": "code",
   "execution_count": 107,
   "metadata": {},
   "outputs": [
    {
     "ename": "TypeError",
     "evalue": "unhashable type: 'list'",
     "output_type": "error",
     "traceback": [
      "\u001b[1;31m---------------------------------------------------------------------------\u001b[0m",
      "\u001b[1;31mTypeError\u001b[0m                                 Traceback (most recent call last)",
      "Cell \u001b[1;32mIn[107], line 5\u001b[0m\n\u001b[0;32m      2\u001b[0m b \u001b[38;5;241m=\u001b[39m [\u001b[38;5;124m'\u001b[39m\u001b[38;5;124mquan 1\u001b[39m\u001b[38;5;124m'\u001b[39m, \u001b[38;5;124m'\u001b[39m\u001b[38;5;124mquan 3\u001b[39m\u001b[38;5;124m'\u001b[39m]\n\u001b[0;32m      3\u001b[0m c \u001b[38;5;241m=\u001b[39m [\u001b[38;5;124m'\u001b[39m\u001b[38;5;124mbanh mi thit\u001b[39m\u001b[38;5;124m'\u001b[39m, \u001b[38;5;124m'\u001b[39m\u001b[38;5;124mbanh mi cha\u001b[39m\u001b[38;5;124m'\u001b[39m, \u001b[38;5;124m'\u001b[39m\u001b[38;5;124mbanh mi trung\u001b[39m\u001b[38;5;124m'\u001b[39m]\n\u001b[0;32m      4\u001b[0m df \u001b[38;5;241m=\u001b[39m pd\u001b[38;5;241m.\u001b[39mDataFrame({\n\u001b[1;32m----> 5\u001b[0m     \u001b[38;5;124m'\u001b[39m\u001b[38;5;124mten quan\u001b[39m\u001b[38;5;124m'\u001b[39m: {a: {\u001b[38;5;124m'\u001b[39m\u001b[38;5;124mten mon an\u001b[39m\u001b[38;5;124m'\u001b[39m: c }}, \n\u001b[0;32m      6\u001b[0m     \u001b[38;5;124m'\u001b[39m\u001b[38;5;124mdia chi\u001b[39m\u001b[38;5;124m'\u001b[39m: b, \n\u001b[0;32m      7\u001b[0m \n\u001b[0;32m      8\u001b[0m })\n",
      "\u001b[1;31mTypeError\u001b[0m: unhashable type: 'list'"
     ]
    }
   ],
   "source": [
    "a = ['banh mi ba huan', 'bugerking']\n",
    "b = ['quan 1', 'quan 3']\n",
    "c = ['banh mi thit', 'banh mi cha', 'banh mi trung']\n",
    "df = pd.DataFrame({\n",
    "    'ten quan': {a: {'ten mon an': c }}, \n",
    "    'dia chi': b, \n",
    "\n",
    "})"
   ]
  },
  {
   "cell_type": "code",
   "execution_count": null,
   "metadata": {},
   "outputs": [
    {
     "data": {
      "text/plain": [
       "[{'ten quan': 'banh mi ba huan',\n",
       "  'ten mon an': 'banh mi thit',\n",
       "  'dia chi': 'quan 1'},\n",
       " {'ten quan': 'banh mi ba huan',\n",
       "  'ten mon an': 'banh mi cha',\n",
       "  'dia chi': 'quan 1'},\n",
       " {'ten quan': 'banh mi ba huan',\n",
       "  'ten mon an': 'banh mi trung',\n",
       "  'dia chi': 'quan 1'},\n",
       " {'ten quan': 'bugerking', 'ten mon an': None, 'dia chi': 'quan 3'}]"
      ]
     },
     "execution_count": 14,
     "metadata": {},
     "output_type": "execute_result"
    }
   ],
   "source": [
    "import pandas as pd\n",
    "\n",
    "a = ['banh mi ba huan', 'bugerking']\n",
    "b = ['quan 1', 'quan 3']\n",
    "c = [['banh mi thit', 'banh mi cha', 'banh mi trung'], []]\n",
    "\n",
    "# Create a list of dictionaries where each dictionary represents a row\n",
    "rows = []\n",
    "for i in range(len(a)):\n",
    "    if c[i]:\n",
    "        for dish in c[i]:\n",
    "            rows.append({'ten quan': a[i], 'ten mon an': dish, 'dia chi': b[i]})\n",
    "    else:\n",
    "        rows.append({'ten quan': a[i], 'ten mon an': None, 'dia chi': b[i]})\n",
    "\n",
    "# df = pd.DataFrame(rows)\n",
    "\n",
    "# print(df)\n",
    "rows\n"
   ]
  },
  {
   "cell_type": "markdown",
   "metadata": {},
   "source": [
    "a = ['banh mi ba huan', ]"
   ]
  },
  {
   "cell_type": "code",
   "execution_count": null,
   "metadata": {},
   "outputs": [],
   "source": [
    "### Cac ma giam gia"
   ]
  },
  {
   "cell_type": "code",
   "execution_count": null,
   "metadata": {},
   "outputs": [],
   "source": [
    "a = ['banh mi ba huan', 'bugerking']\n",
    "b = ['quan 1', 'quan 3']\n",
    "c = [['banh mi thit', 'banh mi cha', 'banh mi trung'], []]"
   ]
  },
  {
   "cell_type": "code",
   "execution_count": null,
   "metadata": {},
   "outputs": [],
   "source": [
    "\n",
    "ten_quan = []\n",
    "dia_chi = []\n",
    "ten_mon= []\n",
    "\n",
    "for i in range(0,len(a)):\n",
    "    mon = c[i]\n",
    "    quan = a[i]\n",
    "    dc = b[i]\n",
    "    if mon: \n",
    "        for n in mon: \n",
    "                ten_quan.append(quan)\n",
    "                dia_chi.append(dc)\n",
    "                ten_mon.append(n)\n",
    "    else: \n",
    "         ten_quan.append(quan)\n",
    "         dia_chi.append(dc)\n",
    "         ten_mon.append('None')\n",
    "\n",
    "\n"
   ]
  },
  {
   "cell_type": "markdown",
   "metadata": {},
   "source": []
  },
  {
   "cell_type": "code",
   "execution_count": null,
   "metadata": {},
   "outputs": [],
   "source": [
    "df = pd.DataFrame({\n",
    "    'ten quan': ten_mon, \n",
    "    'dia chi': dia_chi, \n",
    "    'ten_mon': ten_mon\n",
    "})"
   ]
  },
  {
   "cell_type": "code",
   "execution_count": null,
   "metadata": {},
   "outputs": [
    {
     "data": {
      "text/html": [
       "<div>\n",
       "<style scoped>\n",
       "    .dataframe tbody tr th:only-of-type {\n",
       "        vertical-align: middle;\n",
       "    }\n",
       "\n",
       "    .dataframe tbody tr th {\n",
       "        vertical-align: top;\n",
       "    }\n",
       "\n",
       "    .dataframe thead th {\n",
       "        text-align: right;\n",
       "    }\n",
       "</style>\n",
       "<table border=\"1\" class=\"dataframe\">\n",
       "  <thead>\n",
       "    <tr style=\"text-align: right;\">\n",
       "      <th></th>\n",
       "      <th>ten quan</th>\n",
       "      <th>dia chi</th>\n",
       "      <th>ten_mon</th>\n",
       "    </tr>\n",
       "  </thead>\n",
       "  <tbody>\n",
       "    <tr>\n",
       "      <th>0</th>\n",
       "      <td>banh mi thit</td>\n",
       "      <td>quan 1</td>\n",
       "      <td>banh mi thit</td>\n",
       "    </tr>\n",
       "    <tr>\n",
       "      <th>1</th>\n",
       "      <td>banh mi cha</td>\n",
       "      <td>quan 1</td>\n",
       "      <td>banh mi cha</td>\n",
       "    </tr>\n",
       "    <tr>\n",
       "      <th>2</th>\n",
       "      <td>banh mi trung</td>\n",
       "      <td>quan 1</td>\n",
       "      <td>banh mi trung</td>\n",
       "    </tr>\n",
       "    <tr>\n",
       "      <th>3</th>\n",
       "      <td>None</td>\n",
       "      <td>quan 3</td>\n",
       "      <td>None</td>\n",
       "    </tr>\n",
       "  </tbody>\n",
       "</table>\n",
       "</div>"
      ],
      "text/plain": [
       "        ten quan dia chi        ten_mon\n",
       "0   banh mi thit  quan 1   banh mi thit\n",
       "1    banh mi cha  quan 1    banh mi cha\n",
       "2  banh mi trung  quan 1  banh mi trung\n",
       "3           None  quan 3           None"
      ]
     },
     "execution_count": 85,
     "metadata": {},
     "output_type": "execute_result"
    }
   ],
   "source": [
    "df"
   ]
  }
 ],
 "metadata": {
  "kernelspec": {
   "display_name": "Python 3",
   "language": "python",
   "name": "python3"
  },
  "language_info": {
   "codemirror_mode": {
    "name": "ipython",
    "version": 3
   },
   "file_extension": ".py",
   "mimetype": "text/x-python",
   "name": "python",
   "nbconvert_exporter": "python",
   "pygments_lexer": "ipython3",
   "version": "3.10.11"
  }
 },
 "nbformat": 4,
 "nbformat_minor": 2
}
